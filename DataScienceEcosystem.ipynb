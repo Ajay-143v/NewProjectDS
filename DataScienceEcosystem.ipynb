{
 "cells": [
  {
   "cell_type": "markdown",
   "id": "e906a429-383c-4b81-b83f-37b18ee47d1e",
   "metadata": {},
   "source": [
    "# Data Science Tools and Ecosystem"
   ]
  },
  {
   "cell_type": "markdown",
   "id": "7cdc2c0d-f3ee-4122-8066-9ce261030e21",
   "metadata": {},
   "source": [
    "In this notebook, Data Science Tools and Ecosystem are summarized"
   ]
  },
  {
   "cell_type": "markdown",
   "id": "76b2c69b-0b64-4ccd-8250-c339abe0327c",
   "metadata": {},
   "source": [
    "Some of the popular languages that Data Scientists use are:\n",
    "1. Python\n",
    "2. R\n",
    "3. Julia\n",
    "4. Scala"
   ]
  },
  {
   "cell_type": "markdown",
   "id": "f27c62a6-d8bb-4545-a953-f577584fe8b8",
   "metadata": {},
   "source": [
    "Some of the commonly used libraries used by Data Scientists include:\n",
    "1. matplotlib\n",
    "2. pandas\n",
    "3. Numpy\n",
    "4. tensorflow"
   ]
  },
  {
   "cell_type": "markdown",
   "id": "cd48bd36-696b-4672-8e67-7181e9e3c67c",
   "metadata": {},
   "source": [
    "Data Sience tools:\n",
    "1. Jupyter labs\n",
    "2. Github\n",
    "3. VS Code\n",
    "4. Anaconda"
   ]
  },
  {
   "cell_type": "markdown",
   "id": "edbd4f47-1e42-41b2-affa-63a4216a6103",
   "metadata": {},
   "source": [
    "### Below are a few examples of evaluating arithmetic expressions in python"
   ]
  },
  {
   "cell_type": "code",
   "execution_count": null,
   "id": "12f66c65-2f38-40c5-998e-f57c39ec371b",
   "metadata": {},
   "outputs": [],
   "source": []
  }
 ],
 "metadata": {
  "kernelspec": {
   "display_name": "Python",
   "language": "python",
   "name": "conda-env-python-py"
  },
  "language_info": {
   "codemirror_mode": {
    "name": "ipython",
    "version": 3
   },
   "file_extension": ".py",
   "mimetype": "text/x-python",
   "name": "python",
   "nbconvert_exporter": "python",
   "pygments_lexer": "ipython3",
   "version": "3.7.12"
  }
 },
 "nbformat": 4,
 "nbformat_minor": 5
}
